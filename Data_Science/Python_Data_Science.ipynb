{
  "nbformat": 4,
  "nbformat_minor": 0,
  "metadata": {
    "colab": {
      "provenance": []
    },
    "kernelspec": {
      "name": "python3",
      "display_name": "Python 3"
    },
    "language_info": {
      "name": "python"
    }
  },
  "cells": [
    {
      "cell_type": "code",
      "source": [
        "import pandas as pd\n",
        "import numpy as np\n",
        "import matplotlib.pyplot as plt\n",
        "import seaborn as sns\n",
        "from scipy.stats import pearsonr\n",
        "import plotly.express as px\n",
        "from scipy import stats"
      ],
      "metadata": {
        "id": "was1Eq6Lz7u-"
      },
      "execution_count": 13,
      "outputs": []
    },
    {
      "cell_type": "markdown",
      "source": [
        "###Read in the gapminder_clean.csv data as a pandas DataFrame.\n",
        "\n",
        "\n"
      ],
      "metadata": {
        "id": "esQcx02Vu0A_"
      }
    },
    {
      "cell_type": "code",
      "source": [
        "#read dataset\n",
        "df = pd.read_csv(\"/content/drive/MyDrive/Colab Notebooks/Python Practice/gapminder_clean.csv\")"
      ],
      "metadata": {
        "id": "7sjc4ZXp0NnS"
      },
      "execution_count": 2,
      "outputs": []
    },
    {
      "cell_type": "code",
      "source": [
        "df.head()"
      ],
      "metadata": {
        "colab": {
          "base_uri": "https://localhost:8080/",
          "height": 293
        },
        "id": "byYdLwVI0Zqz",
        "outputId": "4cd7acc2-5cde-4eae-83e3-a6f4a41a6ddc"
      },
      "execution_count": 3,
      "outputs": [
        {
          "output_type": "execute_result",
          "data": {
            "text/plain": [
              "   Unnamed: 0 Country Name  Year  Agriculture, value added (% of GDP)  \\\n",
              "0           0  Afghanistan  1962                                  NaN   \n",
              "1           1  Afghanistan  1967                                  NaN   \n",
              "2           2  Afghanistan  1972                                  NaN   \n",
              "3           3  Afghanistan  1977                                  NaN   \n",
              "4           4  Afghanistan  1982                                  NaN   \n",
              "\n",
              "   CO2 emissions (metric tons per capita)  \\\n",
              "0                                0.073781   \n",
              "1                                0.123782   \n",
              "2                                0.130820   \n",
              "3                                0.183118   \n",
              "4                                0.165879   \n",
              "\n",
              "   Domestic credit provided by financial sector (% of GDP)  \\\n",
              "0                                          21.276422         \n",
              "1                                           9.917662         \n",
              "2                                          18.880833         \n",
              "3                                          13.836822         \n",
              "4                                                NaN         \n",
              "\n",
              "   Electric power consumption (kWh per capita)  \\\n",
              "0                                          NaN   \n",
              "1                                          NaN   \n",
              "2                                          NaN   \n",
              "3                                          NaN   \n",
              "4                                          NaN   \n",
              "\n",
              "   Energy use (kg of oil equivalent per capita)  \\\n",
              "0                                           NaN   \n",
              "1                                           NaN   \n",
              "2                                           NaN   \n",
              "3                                           NaN   \n",
              "4                                           NaN   \n",
              "\n",
              "   Exports of goods and services (% of GDP)  \\\n",
              "0                                  4.878051   \n",
              "1                                  6.772908   \n",
              "2                                 14.763231   \n",
              "3                                 11.662904   \n",
              "4                                       NaN   \n",
              "\n",
              "   Fertility rate, total (births per woman)  GDP growth (annual %)  \\\n",
              "0                                     7.450                    NaN   \n",
              "1                                     7.450                    NaN   \n",
              "2                                     7.450                    NaN   \n",
              "3                                     7.449                    NaN   \n",
              "4                                     7.450                    NaN   \n",
              "\n",
              "   Imports of goods and services (% of GDP)  Industry, value added (% of GDP)  \\\n",
              "0                                  9.349593                               NaN   \n",
              "1                                 14.209827                               NaN   \n",
              "2                                 18.105850                               NaN   \n",
              "3                                 14.823175                               NaN   \n",
              "4                                       NaN                               NaN   \n",
              "\n",
              "   Inflation, GDP deflator (annual %)  \\\n",
              "0                                 NaN   \n",
              "1                                 NaN   \n",
              "2                                 NaN   \n",
              "3                                 NaN   \n",
              "4                                 NaN   \n",
              "\n",
              "   Life expectancy at birth, total (years)  \\\n",
              "0                                33.219902   \n",
              "1                                35.389415   \n",
              "2                                37.610146   \n",
              "3                                40.110146   \n",
              "4                                43.230732   \n",
              "\n",
              "   Population density (people per sq. km of land area)  \\\n",
              "0                                          14.312061     \n",
              "1                                          15.881812     \n",
              "2                                          17.947027     \n",
              "3                                          19.998926     \n",
              "4                                          19.402324     \n",
              "\n",
              "   Services, etc., value added (% of GDP)         pop continent   gdpPercap  \n",
              "0                                     NaN  10267083.0      Asia  853.100710  \n",
              "1                                     NaN  11537966.0      Asia  836.197138  \n",
              "2                                     NaN  13079460.0      Asia  739.981106  \n",
              "3                                     NaN  14880372.0      Asia  786.113360  \n",
              "4                                     NaN  12881816.0      Asia  978.011439  "
            ],
            "text/html": [
              "\n",
              "  <div id=\"df-63d57b90-f57a-4926-b7dc-d92ba9227066\" class=\"colab-df-container\">\n",
              "    <div>\n",
              "<style scoped>\n",
              "    .dataframe tbody tr th:only-of-type {\n",
              "        vertical-align: middle;\n",
              "    }\n",
              "\n",
              "    .dataframe tbody tr th {\n",
              "        vertical-align: top;\n",
              "    }\n",
              "\n",
              "    .dataframe thead th {\n",
              "        text-align: right;\n",
              "    }\n",
              "</style>\n",
              "<table border=\"1\" class=\"dataframe\">\n",
              "  <thead>\n",
              "    <tr style=\"text-align: right;\">\n",
              "      <th></th>\n",
              "      <th>Unnamed: 0</th>\n",
              "      <th>Country Name</th>\n",
              "      <th>Year</th>\n",
              "      <th>Agriculture, value added (% of GDP)</th>\n",
              "      <th>CO2 emissions (metric tons per capita)</th>\n",
              "      <th>Domestic credit provided by financial sector (% of GDP)</th>\n",
              "      <th>Electric power consumption (kWh per capita)</th>\n",
              "      <th>Energy use (kg of oil equivalent per capita)</th>\n",
              "      <th>Exports of goods and services (% of GDP)</th>\n",
              "      <th>Fertility rate, total (births per woman)</th>\n",
              "      <th>GDP growth (annual %)</th>\n",
              "      <th>Imports of goods and services (% of GDP)</th>\n",
              "      <th>Industry, value added (% of GDP)</th>\n",
              "      <th>Inflation, GDP deflator (annual %)</th>\n",
              "      <th>Life expectancy at birth, total (years)</th>\n",
              "      <th>Population density (people per sq. km of land area)</th>\n",
              "      <th>Services, etc., value added (% of GDP)</th>\n",
              "      <th>pop</th>\n",
              "      <th>continent</th>\n",
              "      <th>gdpPercap</th>\n",
              "    </tr>\n",
              "  </thead>\n",
              "  <tbody>\n",
              "    <tr>\n",
              "      <th>0</th>\n",
              "      <td>0</td>\n",
              "      <td>Afghanistan</td>\n",
              "      <td>1962</td>\n",
              "      <td>NaN</td>\n",
              "      <td>0.073781</td>\n",
              "      <td>21.276422</td>\n",
              "      <td>NaN</td>\n",
              "      <td>NaN</td>\n",
              "      <td>4.878051</td>\n",
              "      <td>7.450</td>\n",
              "      <td>NaN</td>\n",
              "      <td>9.349593</td>\n",
              "      <td>NaN</td>\n",
              "      <td>NaN</td>\n",
              "      <td>33.219902</td>\n",
              "      <td>14.312061</td>\n",
              "      <td>NaN</td>\n",
              "      <td>10267083.0</td>\n",
              "      <td>Asia</td>\n",
              "      <td>853.100710</td>\n",
              "    </tr>\n",
              "    <tr>\n",
              "      <th>1</th>\n",
              "      <td>1</td>\n",
              "      <td>Afghanistan</td>\n",
              "      <td>1967</td>\n",
              "      <td>NaN</td>\n",
              "      <td>0.123782</td>\n",
              "      <td>9.917662</td>\n",
              "      <td>NaN</td>\n",
              "      <td>NaN</td>\n",
              "      <td>6.772908</td>\n",
              "      <td>7.450</td>\n",
              "      <td>NaN</td>\n",
              "      <td>14.209827</td>\n",
              "      <td>NaN</td>\n",
              "      <td>NaN</td>\n",
              "      <td>35.389415</td>\n",
              "      <td>15.881812</td>\n",
              "      <td>NaN</td>\n",
              "      <td>11537966.0</td>\n",
              "      <td>Asia</td>\n",
              "      <td>836.197138</td>\n",
              "    </tr>\n",
              "    <tr>\n",
              "      <th>2</th>\n",
              "      <td>2</td>\n",
              "      <td>Afghanistan</td>\n",
              "      <td>1972</td>\n",
              "      <td>NaN</td>\n",
              "      <td>0.130820</td>\n",
              "      <td>18.880833</td>\n",
              "      <td>NaN</td>\n",
              "      <td>NaN</td>\n",
              "      <td>14.763231</td>\n",
              "      <td>7.450</td>\n",
              "      <td>NaN</td>\n",
              "      <td>18.105850</td>\n",
              "      <td>NaN</td>\n",
              "      <td>NaN</td>\n",
              "      <td>37.610146</td>\n",
              "      <td>17.947027</td>\n",
              "      <td>NaN</td>\n",
              "      <td>13079460.0</td>\n",
              "      <td>Asia</td>\n",
              "      <td>739.981106</td>\n",
              "    </tr>\n",
              "    <tr>\n",
              "      <th>3</th>\n",
              "      <td>3</td>\n",
              "      <td>Afghanistan</td>\n",
              "      <td>1977</td>\n",
              "      <td>NaN</td>\n",
              "      <td>0.183118</td>\n",
              "      <td>13.836822</td>\n",
              "      <td>NaN</td>\n",
              "      <td>NaN</td>\n",
              "      <td>11.662904</td>\n",
              "      <td>7.449</td>\n",
              "      <td>NaN</td>\n",
              "      <td>14.823175</td>\n",
              "      <td>NaN</td>\n",
              "      <td>NaN</td>\n",
              "      <td>40.110146</td>\n",
              "      <td>19.998926</td>\n",
              "      <td>NaN</td>\n",
              "      <td>14880372.0</td>\n",
              "      <td>Asia</td>\n",
              "      <td>786.113360</td>\n",
              "    </tr>\n",
              "    <tr>\n",
              "      <th>4</th>\n",
              "      <td>4</td>\n",
              "      <td>Afghanistan</td>\n",
              "      <td>1982</td>\n",
              "      <td>NaN</td>\n",
              "      <td>0.165879</td>\n",
              "      <td>NaN</td>\n",
              "      <td>NaN</td>\n",
              "      <td>NaN</td>\n",
              "      <td>NaN</td>\n",
              "      <td>7.450</td>\n",
              "      <td>NaN</td>\n",
              "      <td>NaN</td>\n",
              "      <td>NaN</td>\n",
              "      <td>NaN</td>\n",
              "      <td>43.230732</td>\n",
              "      <td>19.402324</td>\n",
              "      <td>NaN</td>\n",
              "      <td>12881816.0</td>\n",
              "      <td>Asia</td>\n",
              "      <td>978.011439</td>\n",
              "    </tr>\n",
              "  </tbody>\n",
              "</table>\n",
              "</div>\n",
              "    <div class=\"colab-df-buttons\">\n",
              "\n",
              "  <div class=\"colab-df-container\">\n",
              "    <button class=\"colab-df-convert\" onclick=\"convertToInteractive('df-63d57b90-f57a-4926-b7dc-d92ba9227066')\"\n",
              "            title=\"Convert this dataframe to an interactive table.\"\n",
              "            style=\"display:none;\">\n",
              "\n",
              "  <svg xmlns=\"http://www.w3.org/2000/svg\" height=\"24px\" viewBox=\"0 -960 960 960\">\n",
              "    <path d=\"M120-120v-720h720v720H120Zm60-500h600v-160H180v160Zm220 220h160v-160H400v160Zm0 220h160v-160H400v160ZM180-400h160v-160H180v160Zm440 0h160v-160H620v160ZM180-180h160v-160H180v160Zm440 0h160v-160H620v160Z\"/>\n",
              "  </svg>\n",
              "    </button>\n",
              "\n",
              "  <style>\n",
              "    .colab-df-container {\n",
              "      display:flex;\n",
              "      gap: 12px;\n",
              "    }\n",
              "\n",
              "    .colab-df-convert {\n",
              "      background-color: #E8F0FE;\n",
              "      border: none;\n",
              "      border-radius: 50%;\n",
              "      cursor: pointer;\n",
              "      display: none;\n",
              "      fill: #1967D2;\n",
              "      height: 32px;\n",
              "      padding: 0 0 0 0;\n",
              "      width: 32px;\n",
              "    }\n",
              "\n",
              "    .colab-df-convert:hover {\n",
              "      background-color: #E2EBFA;\n",
              "      box-shadow: 0px 1px 2px rgba(60, 64, 67, 0.3), 0px 1px 3px 1px rgba(60, 64, 67, 0.15);\n",
              "      fill: #174EA6;\n",
              "    }\n",
              "\n",
              "    .colab-df-buttons div {\n",
              "      margin-bottom: 4px;\n",
              "    }\n",
              "\n",
              "    [theme=dark] .colab-df-convert {\n",
              "      background-color: #3B4455;\n",
              "      fill: #D2E3FC;\n",
              "    }\n",
              "\n",
              "    [theme=dark] .colab-df-convert:hover {\n",
              "      background-color: #434B5C;\n",
              "      box-shadow: 0px 1px 3px 1px rgba(0, 0, 0, 0.15);\n",
              "      filter: drop-shadow(0px 1px 2px rgba(0, 0, 0, 0.3));\n",
              "      fill: #FFFFFF;\n",
              "    }\n",
              "  </style>\n",
              "\n",
              "    <script>\n",
              "      const buttonEl =\n",
              "        document.querySelector('#df-63d57b90-f57a-4926-b7dc-d92ba9227066 button.colab-df-convert');\n",
              "      buttonEl.style.display =\n",
              "        google.colab.kernel.accessAllowed ? 'block' : 'none';\n",
              "\n",
              "      async function convertToInteractive(key) {\n",
              "        const element = document.querySelector('#df-63d57b90-f57a-4926-b7dc-d92ba9227066');\n",
              "        const dataTable =\n",
              "          await google.colab.kernel.invokeFunction('convertToInteractive',\n",
              "                                                    [key], {});\n",
              "        if (!dataTable) return;\n",
              "\n",
              "        const docLinkHtml = 'Like what you see? Visit the ' +\n",
              "          '<a target=\"_blank\" href=https://colab.research.google.com/notebooks/data_table.ipynb>data table notebook</a>'\n",
              "          + ' to learn more about interactive tables.';\n",
              "        element.innerHTML = '';\n",
              "        dataTable['output_type'] = 'display_data';\n",
              "        await google.colab.output.renderOutput(dataTable, element);\n",
              "        const docLink = document.createElement('div');\n",
              "        docLink.innerHTML = docLinkHtml;\n",
              "        element.appendChild(docLink);\n",
              "      }\n",
              "    </script>\n",
              "  </div>\n",
              "\n",
              "\n",
              "<div id=\"df-1fced6c2-ffdc-448a-802d-873fc6db9f44\">\n",
              "  <button class=\"colab-df-quickchart\" onclick=\"quickchart('df-1fced6c2-ffdc-448a-802d-873fc6db9f44')\"\n",
              "            title=\"Suggest charts\"\n",
              "            style=\"display:none;\">\n",
              "\n",
              "<svg xmlns=\"http://www.w3.org/2000/svg\" height=\"24px\"viewBox=\"0 0 24 24\"\n",
              "     width=\"24px\">\n",
              "    <g>\n",
              "        <path d=\"M19 3H5c-1.1 0-2 .9-2 2v14c0 1.1.9 2 2 2h14c1.1 0 2-.9 2-2V5c0-1.1-.9-2-2-2zM9 17H7v-7h2v7zm4 0h-2V7h2v10zm4 0h-2v-4h2v4z\"/>\n",
              "    </g>\n",
              "</svg>\n",
              "  </button>\n",
              "\n",
              "<style>\n",
              "  .colab-df-quickchart {\n",
              "      --bg-color: #E8F0FE;\n",
              "      --fill-color: #1967D2;\n",
              "      --hover-bg-color: #E2EBFA;\n",
              "      --hover-fill-color: #174EA6;\n",
              "      --disabled-fill-color: #AAA;\n",
              "      --disabled-bg-color: #DDD;\n",
              "  }\n",
              "\n",
              "  [theme=dark] .colab-df-quickchart {\n",
              "      --bg-color: #3B4455;\n",
              "      --fill-color: #D2E3FC;\n",
              "      --hover-bg-color: #434B5C;\n",
              "      --hover-fill-color: #FFFFFF;\n",
              "      --disabled-bg-color: #3B4455;\n",
              "      --disabled-fill-color: #666;\n",
              "  }\n",
              "\n",
              "  .colab-df-quickchart {\n",
              "    background-color: var(--bg-color);\n",
              "    border: none;\n",
              "    border-radius: 50%;\n",
              "    cursor: pointer;\n",
              "    display: none;\n",
              "    fill: var(--fill-color);\n",
              "    height: 32px;\n",
              "    padding: 0;\n",
              "    width: 32px;\n",
              "  }\n",
              "\n",
              "  .colab-df-quickchart:hover {\n",
              "    background-color: var(--hover-bg-color);\n",
              "    box-shadow: 0 1px 2px rgba(60, 64, 67, 0.3), 0 1px 3px 1px rgba(60, 64, 67, 0.15);\n",
              "    fill: var(--button-hover-fill-color);\n",
              "  }\n",
              "\n",
              "  .colab-df-quickchart-complete:disabled,\n",
              "  .colab-df-quickchart-complete:disabled:hover {\n",
              "    background-color: var(--disabled-bg-color);\n",
              "    fill: var(--disabled-fill-color);\n",
              "    box-shadow: none;\n",
              "  }\n",
              "\n",
              "  .colab-df-spinner {\n",
              "    border: 2px solid var(--fill-color);\n",
              "    border-color: transparent;\n",
              "    border-bottom-color: var(--fill-color);\n",
              "    animation:\n",
              "      spin 1s steps(1) infinite;\n",
              "  }\n",
              "\n",
              "  @keyframes spin {\n",
              "    0% {\n",
              "      border-color: transparent;\n",
              "      border-bottom-color: var(--fill-color);\n",
              "      border-left-color: var(--fill-color);\n",
              "    }\n",
              "    20% {\n",
              "      border-color: transparent;\n",
              "      border-left-color: var(--fill-color);\n",
              "      border-top-color: var(--fill-color);\n",
              "    }\n",
              "    30% {\n",
              "      border-color: transparent;\n",
              "      border-left-color: var(--fill-color);\n",
              "      border-top-color: var(--fill-color);\n",
              "      border-right-color: var(--fill-color);\n",
              "    }\n",
              "    40% {\n",
              "      border-color: transparent;\n",
              "      border-right-color: var(--fill-color);\n",
              "      border-top-color: var(--fill-color);\n",
              "    }\n",
              "    60% {\n",
              "      border-color: transparent;\n",
              "      border-right-color: var(--fill-color);\n",
              "    }\n",
              "    80% {\n",
              "      border-color: transparent;\n",
              "      border-right-color: var(--fill-color);\n",
              "      border-bottom-color: var(--fill-color);\n",
              "    }\n",
              "    90% {\n",
              "      border-color: transparent;\n",
              "      border-bottom-color: var(--fill-color);\n",
              "    }\n",
              "  }\n",
              "</style>\n",
              "\n",
              "  <script>\n",
              "    async function quickchart(key) {\n",
              "      const quickchartButtonEl =\n",
              "        document.querySelector('#' + key + ' button');\n",
              "      quickchartButtonEl.disabled = true;  // To prevent multiple clicks.\n",
              "      quickchartButtonEl.classList.add('colab-df-spinner');\n",
              "      try {\n",
              "        const charts = await google.colab.kernel.invokeFunction(\n",
              "            'suggestCharts', [key], {});\n",
              "      } catch (error) {\n",
              "        console.error('Error during call to suggestCharts:', error);\n",
              "      }\n",
              "      quickchartButtonEl.classList.remove('colab-df-spinner');\n",
              "      quickchartButtonEl.classList.add('colab-df-quickchart-complete');\n",
              "    }\n",
              "    (() => {\n",
              "      let quickchartButtonEl =\n",
              "        document.querySelector('#df-1fced6c2-ffdc-448a-802d-873fc6db9f44 button');\n",
              "      quickchartButtonEl.style.display =\n",
              "        google.colab.kernel.accessAllowed ? 'block' : 'none';\n",
              "    })();\n",
              "  </script>\n",
              "</div>\n",
              "\n",
              "    </div>\n",
              "  </div>\n"
            ],
            "application/vnd.google.colaboratory.intrinsic+json": {
              "type": "dataframe",
              "variable_name": "df",
              "summary": "{\n  \"name\": \"df\",\n  \"rows\": 2607,\n  \"fields\": [\n    {\n      \"column\": \"Unnamed: 0\",\n      \"properties\": {\n        \"dtype\": \"number\",\n        \"std\": 752,\n        \"min\": 0,\n        \"max\": 2606,\n        \"num_unique_values\": 2607,\n        \"samples\": [\n          782,\n          786,\n          602\n        ],\n        \"semantic_type\": \"\",\n        \"description\": \"\"\n      }\n    },\n    {\n      \"column\": \"Country Name\",\n      \"properties\": {\n        \"dtype\": \"category\",\n        \"num_unique_values\": 263,\n        \"samples\": [\n          \"Italy\",\n          \"Kenya\",\n          \"World\"\n        ],\n        \"semantic_type\": \"\",\n        \"description\": \"\"\n      }\n    },\n    {\n      \"column\": \"Year\",\n      \"properties\": {\n        \"dtype\": \"number\",\n        \"std\": 14,\n        \"min\": 1962,\n        \"max\": 2007,\n        \"num_unique_values\": 10,\n        \"samples\": [\n          2002,\n          1967,\n          1987\n        ],\n        \"semantic_type\": \"\",\n        \"description\": \"\"\n      }\n    },\n    {\n      \"column\": \"Agriculture, value added (% of GDP)\",\n      \"properties\": {\n        \"dtype\": \"number\",\n        \"std\": 15.473056883486754,\n        \"min\": 0.0,\n        \"max\": 94.8464028777,\n        \"num_unique_values\": 1394,\n        \"samples\": [\n          3.53375119296,\n          37.9291027357,\n          19.10309025\n        ],\n        \"semantic_type\": \"\",\n        \"description\": \"\"\n      }\n    },\n    {\n      \"column\": \"CO2 emissions (metric tons per capita)\",\n      \"properties\": {\n        \"dtype\": \"number\",\n        \"std\": 6.867295324990187,\n        \"min\": 0.00174785037918,\n        \"max\": 82.7189381563,\n        \"num_unique_values\": 2173,\n        \"samples\": [\n          0.292849908704,\n          0.399797113408,\n          3.28732498457\n        ],\n        \"semantic_type\": \"\",\n        \"description\": \"\"\n      }\n    },\n    {\n      \"column\": \"Domestic credit provided by financial sector (% of GDP)\",\n      \"properties\": {\n        \"dtype\": \"number\",\n        \"std\": 42.94784988127218,\n        \"min\": -73.6602538221,\n        \"max\": 301.187326,\n        \"num_unique_values\": 1691,\n        \"samples\": [\n          11.3082999284,\n          89.9362754774,\n          45.4646460427\n        ],\n        \"semantic_type\": \"\",\n        \"description\": \"\"\n      }\n    },\n    {\n      \"column\": \"Electric power consumption (kWh per capita)\",\n      \"properties\": {\n        \"dtype\": \"number\",\n        \"std\": 3858.1595828979484,\n        \"min\": 7.607433984489999,\n        \"max\": 36852.5448862,\n        \"num_unique_values\": 1337,\n        \"samples\": [\n          5306.65656531,\n          2594.36111668,\n          5452.39333341\n        ],\n        \"semantic_type\": \"\",\n        \"description\": \"\"\n      }\n    },\n    {\n      \"column\": \"Energy use (kg of oil equivalent per capita)\",\n      \"properties\": {\n        \"dtype\": \"number\",\n        \"std\": 2824.2554660548067,\n        \"min\": 9.71541007212,\n        \"max\": 36146.6996141,\n        \"num_unique_values\": 1379,\n        \"samples\": [\n          690.7954914339999,\n          327.952990834,\n          2862.7957382\n        ],\n        \"semantic_type\": \"\",\n        \"description\": \"\"\n      }\n    },\n    {\n      \"column\": \"Exports of goods and services (% of GDP)\",\n      \"properties\": {\n        \"dtype\": \"number\",\n        \"std\": 23.78356288439184,\n        \"min\": 0.138180683366,\n        \"max\": 214.742278151,\n        \"num_unique_values\": 1770,\n        \"samples\": [\n          14.2464402769,\n          12.6899405964,\n          17.313085634700002\n        ],\n        \"semantic_type\": \"\",\n        \"description\": \"\"\n      }\n    },\n    {\n      \"column\": \"Fertility rate, total (births per woman)\",\n      \"properties\": {\n        \"dtype\": \"number\",\n        \"std\": 1.9886995838751025,\n        \"min\": 0.852,\n        \"max\": 8.838,\n        \"num_unique_values\": 1938,\n        \"samples\": [\n          2.13,\n          3.09,\n          4.704\n        ],\n        \"semantic_type\": \"\",\n        \"description\": \"\"\n      }\n    },\n    {\n      \"column\": \"GDP growth (annual %)\",\n      \"properties\": {\n        \"dtype\": \"number\",\n        \"std\": 6.9626563693672265,\n        \"min\": -44.8999999084,\n        \"max\": 149.972963478,\n        \"num_unique_values\": 1879,\n        \"samples\": [\n          3.98644870572,\n          -8.767228452280001,\n          11.5698374\n        ],\n        \"semantic_type\": \"\",\n        \"description\": \"\"\n      }\n    },\n    {\n      \"column\": \"Imports of goods and services (% of GDP)\",\n      \"properties\": {\n        \"dtype\": \"number\",\n        \"std\": 26.617574974378236,\n        \"min\": 0.0795059581624,\n        \"max\": 330.563324435,\n        \"num_unique_values\": 1770,\n        \"samples\": [\n          15.3544380834,\n          113.660867253,\n          18.4953811387\n        ],\n        \"semantic_type\": \"\",\n        \"description\": \"\"\n      }\n    },\n    {\n      \"column\": \"Industry, value added (% of GDP)\",\n      \"properties\": {\n        \"dtype\": \"number\",\n        \"std\": 13.525283696769652,\n        \"min\": 3.480475382,\n        \"max\": 210.606944165,\n        \"num_unique_values\": 1387,\n        \"samples\": [\n          24.6330429761,\n          21.0680019069,\n          21.2654335209\n        ],\n        \"semantic_type\": \"\",\n        \"description\": \"\"\n      }\n    },\n    {\n      \"column\": \"Inflation, GDP deflator (annual %)\",\n      \"properties\": {\n        \"dtype\": \"number\",\n        \"std\": 154.06032313566624,\n        \"min\": -15.423700489200002,\n        \"max\": 4078.47627846,\n        \"num_unique_values\": 1670,\n        \"samples\": [\n          8.19859034158,\n          16.7238667611,\n          0.175554993748\n        ],\n        \"semantic_type\": \"\",\n        \"description\": \"\"\n      }\n    },\n    {\n      \"column\": \"Life expectancy at birth, total (years)\",\n      \"properties\": {\n        \"dtype\": \"number\",\n        \"std\": 11.165084710483267,\n        \"min\": 19.2655121951,\n        \"max\": 82.5070731707,\n        \"num_unique_values\": 2380,\n        \"samples\": [\n          75.8334146341,\n          55.4334390244,\n          80.8731707317\n        ],\n        \"semantic_type\": \"\",\n        \"description\": \"\"\n      }\n    },\n    {\n      \"column\": \"Population density (people per sq. km of land area)\",\n      \"properties\": {\n        \"dtype\": \"number\",\n        \"std\": 1368.1594101067524,\n        \"min\": 0.102429031314,\n        \"max\": 20601.55,\n        \"num_unique_values\": 2536,\n        \"samples\": [\n          41.455464684,\n          578.5697674419999,\n          8.10665358064\n        ],\n        \"semantic_type\": \"\",\n        \"description\": \"\"\n      }\n    },\n    {\n      \"column\": \"Services, etc., value added (% of GDP)\",\n      \"properties\": {\n        \"dtype\": \"number\",\n        \"std\": 14.258895383271355,\n        \"min\": 10.0659918837,\n        \"max\": 100.0,\n        \"num_unique_values\": 1387,\n        \"samples\": [\n          66.2673688665,\n          37.1840917797,\n          74.67778595680001\n        ],\n        \"semantic_type\": \"\",\n        \"description\": \"\"\n      }\n    },\n    {\n      \"column\": \"pop\",\n      \"properties\": {\n        \"dtype\": \"number\",\n        \"std\": 118411665.020016,\n        \"min\": 65345.0,\n        \"max\": 1318683096.0,\n        \"num_unique_values\": 1284,\n        \"samples\": [\n          2953997.0,\n          127617.0,\n          14619745.0\n        ],\n        \"semantic_type\": \"\",\n        \"description\": \"\"\n      }\n    },\n    {\n      \"column\": \"continent\",\n      \"properties\": {\n        \"dtype\": \"category\",\n        \"num_unique_values\": 5,\n        \"samples\": [\n          \"Europe\",\n          \"Oceania\",\n          \"Africa\"\n        ],\n        \"semantic_type\": \"\",\n        \"description\": \"\"\n      }\n    },\n    {\n      \"column\": \"gdpPercap\",\n      \"properties\": {\n        \"dtype\": \"number\",\n        \"std\": 10039.485173850499,\n        \"min\": 347.0,\n        \"max\": 109347.867,\n        \"num_unique_values\": 1284,\n        \"samples\": [\n          6920.223051000001,\n          3020.050513,\n          21198.26136\n        ],\n        \"semantic_type\": \"\",\n        \"description\": \"\"\n      }\n    }\n  ]\n}"
            }
          },
          "metadata": {},
          "execution_count": 3
        }
      ]
    },
    {
      "cell_type": "markdown",
      "source": [
        "###Filter the data to include only rows where Year is 1962 and then make a scatter plot comparing 'CO2 emissions (metric tons per capita)' and gdpPercap for the filtered data."
      ],
      "metadata": {
        "id": "C0S_8LVru6YJ"
      }
    },
    {
      "cell_type": "code",
      "source": [
        "#filter data\n",
        "df_filtered = df[df[\"Year\"] == 1962]\n",
        "df_1962 = df_filtered[['gdpPercap', 'CO2 emissions (metric tons per capita)']].dropna()"
      ],
      "metadata": {
        "id": "VCMmvVmt0f3c"
      },
      "execution_count": 4,
      "outputs": []
    },
    {
      "cell_type": "code",
      "source": [
        "#plot CO2 vs gdpPercap\n",
        "plt.scatter(df_1962['CO2 emissions (metric tons per capita)'], df_1962['gdpPercap'])\n",
        "plt.xlabel(\"CO2 emissions (metric tons per capita)\")\n",
        "plt.ylabel(\"gdpPercap\")\n",
        "plt.title(\"CO2 emissions (metric tons per capita) vs gdpPercap\")\n",
        "plt.show()"
      ],
      "metadata": {
        "colab": {
          "base_uri": "https://localhost:8080/",
          "height": 472
        },
        "id": "euiYNMz11E9M",
        "outputId": "7506dbc2-debe-4c3c-beff-ec0c0026552f"
      },
      "execution_count": 5,
      "outputs": [
        {
          "output_type": "display_data",
          "data": {
            "text/plain": [
              "<Figure size 640x480 with 1 Axes>"
            ],
            "image/png": "[encoded data removed]"
          },
          "metadata": {}
        }
      ]
    },
    {
      "cell_type": "markdown",
      "source": [
        "###On the filtered data, calculate the correlation of 'CO2 emissions (metric tons per capita)' and gdpPercap. What is the correlation and associated p value?"
      ],
      "metadata": {
        "id": "LEaiKxtlu8W1"
      }
    },
    {
      "cell_type": "code",
      "source": [
        "x = df_1962['CO2 emissions (metric tons per capita)']\n",
        "y = df_1962['gdpPercap']\n",
        "\n",
        "#correlation and associated p value\n",
        "corr, p = pearsonr(x, y)\n",
        "print(f'Correlation = {corr}')\n",
        "print(f'p value = {p}')\n"
      ],
      "metadata": {
        "colab": {
          "base_uri": "https://localhost:8080/"
        },
        "id": "h5xqpGtI19xQ",
        "outputId": "f23f39d5-2602-4fd4-a612-b5bc141008ea"
      },
      "execution_count": 6,
      "outputs": [
        {
          "output_type": "stream",
          "name": "stdout",
          "text": [
            "Correlation = 0.9260816725019472\n",
            "p value = 1.1286792210038658e-46\n"
          ]
        }
      ]
    },
    {
      "cell_type": "code",
      "source": [
        "#fit linear regression line\n",
        "slope, intercept = np.polyfit(x, y, 1)\n",
        "\n",
        "#plot\n",
        "plt.scatter(x, y)\n",
        "\n",
        "#plot regression line\n",
        "plt.plot(x, slope*x + intercept, color='red')\n",
        "plt.xlabel(\"CO2 emissions (metric tons per capita)\")\n",
        "plt.ylabel(\"gdpPercap\")\n",
        "plt.title('CO2 Emissions vs GDP per Capita (1962)')"
      ],
      "metadata": {
        "colab": {
          "base_uri": "https://localhost:8080/",
          "height": 490
        },
        "id": "vfrJ9f_n6ZIX",
        "outputId": "bc90df09-8b95-4297-d747-3db3f8424b3e"
      },
      "execution_count": 7,
      "outputs": [
        {
          "output_type": "execute_result",
          "data": {
            "text/plain": [
              "Text(0.5, 1.0, 'CO2 Emissions vs GDP per Capita (1962)')"
            ]
          },
          "metadata": {},
          "execution_count": 7
        },
        {
          "output_type": "display_data",
          "data": {
            "text/plain": [
              "<Figure size 640x480 with 1 Axes>"
            ],
            "image/png": "[encoded data removed]"
          },
          "metadata": {}
        }
      ]
    },
    {
      "cell_type": "markdown",
      "source": [
        "###On the unfiltered data, answer \"In what year is the correlation between 'CO2 emissions (metric tons per capita)' and gdpPercap the strongest?\" Filter the dataset to that year for the next step..."
      ],
      "metadata": {
        "id": "hrx1Ko0du8mS"
      }
    },
    {
      "cell_type": "code",
      "source": [
        "df_cleaned = df.dropna(subset=[\"CO2 emissions (metric tons per capita)\", \"gdpPercap\"]).reset_index(drop=True)\n",
        "\n",
        "#calculate correlation for each year\n",
        "correlation = []\n",
        "for year in df_cleaned['Year'].unique():\n",
        "  df_year = df_cleaned[df_cleaned['Year'] == year]\n",
        "  x = df_year['CO2 emissions (metric tons per capita)']\n",
        "  y = df_year['gdpPercap']\n",
        "  if len(x) >= 2: #need to have at least 2 data points to calculate corr\n",
        "    corr, p = pearsonr(x, y)\n",
        "    correlation.append((year, corr))\n",
        "\n",
        "#create dataframe\n",
        "corr_df = pd.DataFrame(correlation, columns=['Year', 'Correlation'])\n",
        "\n",
        "#find year with strongest correlation\n",
        "corr_df['abs_corr'] = corr_df['Correlation'].abs()\n",
        "strongest_year = corr_df.loc[corr_df['abs_corr'].idxmax(), 'Year']\n",
        "print(f'Year with Strongest correlation is {strongest_year}')"
      ],
      "metadata": {
        "colab": {
          "base_uri": "https://localhost:8080/"
        },
        "id": "MpugDkfQA3yN",
        "outputId": "ced85e99-8f81-4242-aac7-4ab679e4edbc"
      },
      "execution_count": 8,
      "outputs": [
        {
          "output_type": "stream",
          "name": "stdout",
          "text": [
            "Year with Strongest correlation is 1967\n"
          ]
        }
      ]
    },
    {
      "cell_type": "code",
      "source": [
        "#filter the dataset to that year\n",
        "df_1967 = df_cleaned[df_cleaned['Year'] == 1967]"
      ],
      "metadata": {
        "id": "mVcH4R7SHkHk"
      },
      "execution_count": 9,
      "outputs": []
    },
    {
      "cell_type": "markdown",
      "source": [
        "###Using plotly or bokeh, create an interactive scatter plot comparing 'CO2 emissions (metric tons per capita)' and gdpPercap, where the point size is determined by pop (population) and the color is determined by the continent."
      ],
      "metadata": {
        "id": "hwuIbaGbu80-"
      }
    },
    {
      "cell_type": "code",
      "source": [
        "fig = px.scatter(\n",
        "    df_1967,\n",
        "    x='gdpPercap',\n",
        "    y='CO2 emissions (metric tons per capita)',\n",
        "    size='pop',  #size determined by pop\n",
        "    color='continent',  #color by continent\n",
        "    hover_name='Country Name',  #show country name\n",
        "    size_max=60,  #max size of the bubbles\n",
        "    title='CO2 Emissions vs GDP per Capita',\n",
        ")\n",
        "\n",
        "fig.update_layout(\n",
        "    xaxis_title='GDP per Capita',\n",
        "    yaxis_title='CO2 Emissions (metric tons per capita)'\n",
        ")\n",
        "\n",
        "fig.show()"
      ],
      "metadata": {
        "colab": {
          "base_uri": "https://localhost:8080/",
          "height": 542
        },
        "id": "ebvxHa2oIhmv",
        "outputId": "a7f8f0c3-72bf-4340-e343-d05835b85530"
      },
      "execution_count": 10,
      "outputs": [
        {
          "output_type": "display_data",
          "data": {
            "text/html": [
              "<html>\n",
              "<head><meta charset=\"utf-8\" /></head>\n",
              "<body>\n",
              "    <div>            <script src=\"https://cdnjs.cloudflare.com/ajax/libs/mathjax/2.7.5/MathJax.js?config=TeX-AMS-MML_SVG\"></script><script type=\"text/javascript\">if (window.MathJax && window.MathJax.Hub && window.MathJax.Hub.Config) {window.MathJax.Hub.Config({SVG: {font: \"STIX-Web\"}});}</script>                <script type=\"text/javascript\">window.PlotlyConfig = {MathJaxConfig: 'local'};</script>\n",
              "        <script charset=\"utf-8\" src=\"https://cdn.plot.ly/plotly-2.35.2.min.js\"></script>                <div id=\"37dffc35-742e-487c-8b95-d9ea13586140\" class=\"plotly-graph-div\" style=\"height:525px; width:100%;\"></div>            <script type=\"text/javascript\">                                    window.PLOTLYENV=window.PLOTLYENV || {};                                    if (document.getElementById(\"37dffc35-742e-487c-8b95-d9ea13586140\")) {                    Plotly.newPlot(                        \"37dffc35-742e-487c-8b95-d9ea13586140\",                        [{\"hovertemplate\":\"\\u003cb\\u003e%{hovertext}\\u003c\\u002fb\\u003e\\u003cbr\\u003e\\u003cbr\\u003econtinent=Asia\\u003cbr\\u003egdpPercap=%{x}\\u003cbr\\u003eCO2 emissions (metric tons per capita)=%{y}\\u003cbr\\u003epop=%{marker.size}\\u003cextra\\u003e\\u003c\\u002fextra\\u003e\",\"hovertext\":[\"Afghanistan\",\"Bahrain\",\"Cambodia\",\"China\",\"India\",\"Indonesia\",\"Iraq\",\"Israel\",\"Japan\",\"Jordan\",\"Kuwait\",\"Lebanon\",\"Mongolia\",\"Myanmar\",\"Nepal\",\"Oman\",\"Pakistan\",\"Philippines\",\"Saudi Arabia\",\"Singapore\",\"Sri Lanka\",\"Thailand\",\"Vietnam\"],\"legendgroup\":\"Asia\",\"marker\":{\"color\":\"#636efa\",\"size\":[11537966.0,202182.0,6960067.0,754550000.0,506000000.0,109343000.0,8519282.0,2693585.0,100825279.0,1255058.0,575003.0,2186894.0,1149500.0,25870271.0,11261690.0,714775.0,60641899.0,35356600.0,5618198.0,1977600.0,11737396.0,34024249.0,39463910.0],\"sizemode\":\"area\",\"sizeref\":209597.22222222222,\"symbol\":\"circle\"},\"mode\":\"markers\",\"name\":\"Asia\",\"orientation\":\"v\",\"showlegend\":true,\"x\":[836.1971382,14804.6727,523.4323142,612.7056934,700.7706107000001,762.4317721,8931.459811,8393.741404,9847.788607,2741.796252,80894.88326,6006.983042,1226.04113,349.0,676.4422254,4720.942687,942.4082588,1814.12743,16903.04886,4977.41854,1135.514326,1295.46066,637.1232887],\"xaxis\":\"x\",\"y\":[0.123782381421,5.12101242081,0.0624360387486,0.574162146975,0.331763432432,0.23191547809,2.05575631533,4.93341748634,4.86355784562,1.0719834839700002,43.4283027016,1.64225486815,1.83477215037,0.143519517019,0.0188098863912,0.205537806177,0.402522332305,0.555413076261,4.90876421118,1.54645934466,0.25192412202,0.360202673298,0.574906353177],\"yaxis\":\"y\",\"type\":\"scatter\"},{\"hovertemplate\":\"\\u003cb\\u003e%{hovertext}\\u003c\\u002fb\\u003e\\u003cbr\\u003e\\u003cbr\\u003econtinent=Europe\\u003cbr\\u003egdpPercap=%{x}\\u003cbr\\u003eCO2 emissions (metric tons per capita)=%{y}\\u003cbr\\u003epop=%{marker.size}\\u003cextra\\u003e\\u003c\\u002fextra\\u003e\",\"hovertext\":[\"Albania\",\"Austria\",\"Belgium\",\"Bulgaria\",\"Denmark\",\"Finland\",\"France\",\"Greece\",\"Hungary\",\"Iceland\",\"Ireland\",\"Italy\",\"Netherlands\",\"Norway\",\"Poland\",\"Portugal\",\"Romania\",\"Spain\",\"Sweden\",\"Switzerland\",\"Turkey\",\"United Kingdom\"],\"legendgroup\":\"Europe\",\"marker\":{\"color\":\"#EF553B\",\"size\":[1984060.0,7376998.0,9556500.0,8310226.0,4838800.0,4605744.0,49569000.0,8716441.0,10223422.0,198676.0,2900100.0,52667100.0,12596822.0,3786019.0,31785378.0,9103000.0,19284814.0,32850275.0,7867931.0,6063000.0,33411317.0,54959000.0],\"sizemode\":\"area\",\"sizeref\":209597.22222222222,\"symbol\":\"circle\"},\"mode\":\"markers\",\"name\":\"Europe\",\"orientation\":\"v\",\"showlegend\":true,\"x\":[2760.196931,12834.6024,13149.04119,5577.0028,15937.21123,10921.63626,12999.91766,8513.097016,9326.64467,13319.89568,7655.568963,10022.40131,15363.25136,16361.87647,6557.152776,6361.517993,6470.866545,7993.512294,15258.29697,22966.14432,2826.3563870000003,14142.85089],\"xaxis\":\"x\",\"y\":[1.36374630011,5.41773672705,11.2172567535,6.63836916108,10.1493005476,6.21338658857,7.3064221599,2.24941398567,5.758242269149999,7.269387323839999,5.65504728764,4.43148255688,8.47605463669,5.1072949704,8.105834013680001,1.39828723131,4.71631855487,2.64722755876,8.770023402589999,5.43460087436,1.03313907211,10.7841045545],\"yaxis\":\"y\",\"type\":\"scatter\"},{\"hovertemplate\":\"\\u003cb\\u003e%{hovertext}\\u003c\\u002fb\\u003e\\u003cbr\\u003e\\u003cbr\\u003econtinent=Africa\\u003cbr\\u003egdpPercap=%{x}\\u003cbr\\u003eCO2 emissions (metric tons per capita)=%{y}\\u003cbr\\u003epop=%{marker.size}\\u003cextra\\u003e\\u003c\\u002fextra\\u003e\",\"hovertext\":[\"Algeria\",\"Angola\",\"Benin\",\"Burkina Faso\",\"Burundi\",\"Cameroon\",\"Central African Republic\",\"Chad\",\"Comoros\",\"Cote d'Ivoire\",\"Djibouti\",\"Equatorial Guinea\",\"Ethiopia\",\"Gabon\",\"Ghana\",\"Guinea\",\"Guinea-Bissau\",\"Kenya\",\"Liberia\",\"Libya\",\"Madagascar\",\"Malawi\",\"Mali\",\"Mauritania\",\"Mauritius\",\"Morocco\",\"Mozambique\",\"Niger\",\"Nigeria\",\"Rwanda\",\"Sao Tome and Principe\",\"Senegal\",\"Sierra Leone\",\"Somalia\",\"South Africa\",\"Sudan\",\"Swaziland\",\"Tanzania\",\"Togo\",\"Tunisia\",\"Uganda\",\"Zambia\",\"Zimbabwe\"],\"legendgroup\":\"Africa\",\"marker\":{\"color\":\"#00cc96\",\"size\":[12760499.0,5247469.0,2427334.0,5127935.0,3330989.0,6335506.0,1733638.0,3495967.0,217378.0,4744870.0,127617.0,259864.0,27860297.0,489004.0,8490213.0,3451418.0,601287.0,10191512.0,1279406.0,1759224.0,6334556.0,4147252.0,5212416.0,1230542.0,789309.0,14770296.0,8680909.0,4534062.0,47287752.0,3451079.0,70787.0,3965841.0,2662190.0,3428839.0,20997321.0,12716129.0,420690.0,12607312.0,1735550.0,4786986.0,8900294.0,3900000.0,4995432.0],\"sizemode\":\"area\",\"sizeref\":209597.22222222222,\"symbol\":\"circle\"},\"mode\":\"markers\",\"name\":\"Africa\",\"orientation\":\"v\",\"showlegend\":true,\"x\":[3246.991771,5522.776375,1035.831411,794.8265597,412.97751360000007,1508.453148,1136.056615,1196.810565,1876.029643,2052.050473,3020.050513,915.5960025,516.1186438,8358.761987,1125.69716,708.7595409,715.5806402000001,1056.736457,713.6036482999999,18772.75169,1634.047282,495.5147806,545.0098873,1421.145193,2475.387562,1711.04477,566.6691539,1054.384891,1014.514104,510.9637142,1384.840593,1612.404632,1206.043465,1284.7331800000002,7114.477970999999,1687.997641,2613.101665,848.2186575,1477.59676,1932.3601670000005,908.9185217,1777.077318,569.7950712],\"xaxis\":\"x\",\"y\":[0.632118426889,0.166658588848,0.0523195961148,0.0192168474009,0.0147354429891,0.0729810151442,0.0533441408437,0.0341490827003,0.0856623590204,0.324270273072,0.669756398256,0.0908814105401,0.0408827807982,1.82744493336,0.185683744295,0.180529006335,0.0707397168393,0.266146233454,0.465652918101,9.94130993774,0.138895338975,0.086039155676,0.0392007077217,0.188179057955,0.6361795955439999,0.3615857767970001,0.216165510896,0.0318543481335,0.244682890582,0.0118002652184999,0.1620797359809999,0.181319271624,0.105440879922,0.0704483235701,6.46564779364,0.250771072594,0.55253014742,0.141879278158,0.10672264605,0.638870927594,0.0944460734361,1.2636279603,1.12296052314],\"yaxis\":\"y\",\"type\":\"scatter\"},{\"hovertemplate\":\"\\u003cb\\u003e%{hovertext}\\u003c\\u002fb\\u003e\\u003cbr\\u003e\\u003cbr\\u003econtinent=Americas\\u003cbr\\u003egdpPercap=%{x}\\u003cbr\\u003eCO2 emissions (metric tons per capita)=%{y}\\u003cbr\\u003epop=%{marker.size}\\u003cextra\\u003e\\u003c\\u002fextra\\u003e\",\"hovertext\":[\"Argentina\",\"Bolivia\",\"Brazil\",\"Canada\",\"Chile\",\"Colombia\",\"Costa Rica\",\"Cuba\",\"Dominican Republic\",\"Ecuador\",\"El Salvador\",\"Guatemala\",\"Haiti\",\"Honduras\",\"Jamaica\",\"Mexico\",\"Nicaragua\",\"Panama\",\"Paraguay\",\"Peru\",\"Trinidad and Tobago\",\"United States\",\"Uruguay\"],\"legendgroup\":\"Americas\",\"marker\":{\"color\":\"#ab63fa\",\"size\":[22934225.0,4040665.0,88049823.0,20819767.0,8858908.0,19764027.0,1588717.0,8139332.0,4049146.0,5432424.0,3232927.0,4690773.0,4318137.0,2500689.0,1861096.0,47995559.0,1865490.0,1405486.0,2287985.0,12132200.0,960155.0,198712000.0,2748579.0],\"sizemode\":\"area\",\"sizeref\":209597.22222222222,\"symbol\":\"circle\"},\"mode\":\"markers\",\"name\":\"Americas\",\"orientation\":\"v\",\"showlegend\":true,\"x\":[8052.953020999999,2586.886053,3429.864357,16076.58803,5106.654313,2678.729839,4161.727834,5690.268015,1653.7230029999998,4579.074215,4358.595393,3242.531147,1452.057666,2538.269358,6124.703450999999,5754.733883,4643.393534000001,4421.009084,2299.376311,5788.09333,5621.368472,19530.36557,5444.61962],\"xaxis\":\"x\",\"y\":[2.85816254619,0.446569679542,0.744966530874,13.8103545953,2.1409901271900003,1.21683476874,0.517145991263,1.90593276713,0.380469161164,0.465781970972,0.342459705043,0.397317380131,0.0585660070754,0.352498584235,2.14463346178,1.8996986330400003,0.493983688604,1.21812383412,0.213013396786,1.1118562074299998,5.00989828473,18.5983178822,1.77610139003],\"yaxis\":\"y\",\"type\":\"scatter\"},{\"hovertemplate\":\"\\u003cb\\u003e%{hovertext}\\u003c\\u002fb\\u003e\\u003cbr\\u003e\\u003cbr\\u003econtinent=Oceania\\u003cbr\\u003egdpPercap=%{x}\\u003cbr\\u003eCO2 emissions (metric tons per capita)=%{y}\\u003cbr\\u003epop=%{marker.size}\\u003cextra\\u003e\\u003c\\u002fextra\\u003e\",\"hovertext\":[\"Australia\",\"New Zealand\"],\"legendgroup\":\"Oceania\",\"marker\":{\"color\":\"#FFA15A\",\"size\":[11872264.0,2728150.0],\"sizemode\":\"area\",\"sizeref\":209597.22222222222,\"symbol\":\"circle\"},\"mode\":\"markers\",\"name\":\"Oceania\",\"orientation\":\"v\",\"showlegend\":true,\"x\":[14526.12465,14463.918930000002],\"xaxis\":\"x\",\"y\":[10.9556247987,5.00761352373],\"yaxis\":\"y\",\"type\":\"scatter\"}],                        {\"template\":{\"data\":{\"histogram2dcontour\":[{\"type\":\"histogram2dcontour\",\"colorbar\":{\"outlinewidth\":0,\"ticks\":\"\"},\"colorscale\":[[0.0,\"#0d0887\"],[0.1111111111111111,\"#46039f\"],[0.2222222222222222,\"#7201a8\"],[0.3333333333333333,\"#9c179e\"],[0.4444444444444444,\"#bd3786\"],[0.5555555555555556,\"#d8576b\"],[0.6666666666666666,\"#ed7953\"],[0.7777777777777778,\"#fb9f3a\"],[0.8888888888888888,\"#fdca26\"],[1.0,\"#f0f921\"]]}],\"choropleth\":[{\"type\":\"choropleth\",\"colorbar\":{\"outlinewidth\":0,\"ticks\":\"\"}}],\"histogram2d\":[{\"type\":\"histogram2d\",\"colorbar\":{\"outlinewidth\":0,\"ticks\":\"\"},\"colorscale\":[[0.0,\"#0d0887\"],[0.1111111111111111,\"#46039f\"],[0.2222222222222222,\"#7201a8\"],[0.3333333333333333,\"#9c179e\"],[0.4444444444444444,\"#bd3786\"],[0.5555555555555556,\"#d8576b\"],[0.6666666666666666,\"#ed7953\"],[0.7777777777777778,\"#fb9f3a\"],[0.8888888888888888,\"#fdca26\"],[1.0,\"#f0f921\"]]}],\"heatmap\":[{\"type\":\"heatmap\",\"colorbar\":{\"outlinewidth\":0,\"ticks\":\"\"},\"colorscale\":[[0.0,\"#0d0887\"],[0.1111111111111111,\"#46039f\"],[0.2222222222222222,\"#7201a8\"],[0.3333333333333333,\"#9c179e\"],[0.4444444444444444,\"#bd3786\"],[0.5555555555555556,\"#d8576b\"],[0.6666666666666666,\"#ed7953\"],[0.7777777777777778,\"#fb9f3a\"],[0.8888888888888888,\"#fdca26\"],[1.0,\"#f0f921\"]]}],\"heatmapgl\":[{\"type\":\"heatmapgl\",\"colorbar\":{\"outlinewidth\":0,\"ticks\":\"\"},\"colorscale\":[[0.0,\"#0d0887\"],[0.1111111111111111,\"#46039f\"],[0.2222222222222222,\"#7201a8\"],[0.3333333333333333,\"#9c179e\"],[0.4444444444444444,\"#bd3786\"],[0.5555555555555556,\"#d8576b\"],[0.6666666666666666,\"#ed7953\"],[0.7777777777777778,\"#fb9f3a\"],[0.8888888888888888,\"#fdca26\"],[1.0,\"#f0f921\"]]}],\"contourcarpet\":[{\"type\":\"contourcarpet\",\"colorbar\":{\"outlinewidth\":0,\"ticks\":\"\"}}],\"contour\":[{\"type\":\"contour\",\"colorbar\":{\"outlinewidth\":0,\"ticks\":\"\"},\"colorscale\":[[0.0,\"#0d0887\"],[0.1111111111111111,\"#46039f\"],[0.2222222222222222,\"#7201a8\"],[0.3333333333333333,\"#9c179e\"],[0.4444444444444444,\"#bd3786\"],[0.5555555555555556,\"#d8576b\"],[0.6666666666666666,\"#ed7953\"],[0.7777777777777778,\"#fb9f3a\"],[0.8888888888888888,\"#fdca26\"],[1.0,\"#f0f921\"]]}],\"surface\":[{\"type\":\"surface\",\"colorbar\":{\"outlinewidth\":0,\"ticks\":\"\"},\"colorscale\":[[0.0,\"#0d0887\"],[0.1111111111111111,\"#46039f\"],[0.2222222222222222,\"#7201a8\"],[0.3333333333333333,\"#9c179e\"],[0.4444444444444444,\"#bd3786\"],[0.5555555555555556,\"#d8576b\"],[0.6666666666666666,\"#ed7953\"],[0.7777777777777778,\"#fb9f3a\"],[0.8888888888888888,\"#fdca26\"],[1.0,\"#f0f921\"]]}],\"mesh3d\":[{\"type\":\"mesh3d\",\"colorbar\":{\"outlinewidth\":0,\"ticks\":\"\"}}],\"scatter\":[{\"fillpattern\":{\"fillmode\":\"overlay\",\"size\":10,\"solidity\":0.2},\"type\":\"scatter\"}],\"parcoords\":[{\"type\":\"parcoords\",\"line\":{\"colorbar\":{\"outlinewidth\":0,\"ticks\":\"\"}}}],\"scatterpolargl\":[{\"type\":\"scatterpolargl\",\"marker\":{\"colorbar\":{\"outlinewidth\":0,\"ticks\":\"\"}}}],\"bar\":[{\"error_x\":{\"color\":\"#2a3f5f\"},\"error_y\":{\"color\":\"#2a3f5f\"},\"marker\":{\"line\":{\"color\":\"#E5ECF6\",\"width\":0.5},\"pattern\":{\"fillmode\":\"overlay\",\"size\":10,\"solidity\":0.2}},\"type\":\"bar\"}],\"scattergeo\":[{\"type\":\"scattergeo\",\"marker\":{\"colorbar\":{\"outlinewidth\":0,\"ticks\":\"\"}}}],\"scatterpolar\":[{\"type\":\"scatterpolar\",\"marker\":{\"colorbar\":{\"outlinewidth\":0,\"ticks\":\"\"}}}],\"histogram\":[{\"marker\":{\"pattern\":{\"fillmode\":\"overlay\",\"size\":10,\"solidity\":0.2}},\"type\":\"histogram\"}],\"scattergl\":[{\"type\":\"scattergl\",\"marker\":{\"colorbar\":{\"outlinewidth\":0,\"ticks\":\"\"}}}],\"scatter3d\":[{\"type\":\"scatter3d\",\"line\":{\"colorbar\":{\"outlinewidth\":0,\"ticks\":\"\"}},\"marker\":{\"colorbar\":{\"outlinewidth\":0,\"ticks\":\"\"}}}],\"scattermapbox\":[{\"type\":\"scattermapbox\",\"marker\":{\"colorbar\":{\"outlinewidth\":0,\"ticks\":\"\"}}}],\"scatterternary\":[{\"type\":\"scatterternary\",\"marker\":{\"colorbar\":{\"outlinewidth\":0,\"ticks\":\"\"}}}],\"scattercarpet\":[{\"type\":\"scattercarpet\",\"marker\":{\"colorbar\":{\"outlinewidth\":0,\"ticks\":\"\"}}}],\"carpet\":[{\"aaxis\":{\"endlinecolor\":\"#2a3f5f\",\"gridcolor\":\"white\",\"linecolor\":\"white\",\"minorgridcolor\":\"white\",\"startlinecolor\":\"#2a3f5f\"},\"baxis\":{\"endlinecolor\":\"#2a3f5f\",\"gridcolor\":\"white\",\"linecolor\":\"white\",\"minorgridcolor\":\"white\",\"startlinecolor\":\"#2a3f5f\"},\"type\":\"carpet\"}],\"table\":[{\"cells\":{\"fill\":{\"color\":\"#EBF0F8\"},\"line\":{\"color\":\"white\"}},\"header\":{\"fill\":{\"color\":\"#C8D4E3\"},\"line\":{\"color\":\"white\"}},\"type\":\"table\"}],\"barpolar\":[{\"marker\":{\"line\":{\"color\":\"#E5ECF6\",\"width\":0.5},\"pattern\":{\"fillmode\":\"overlay\",\"size\":10,\"solidity\":0.2}},\"type\":\"barpolar\"}],\"pie\":[{\"automargin\":true,\"type\":\"pie\"}]},\"layout\":{\"autotypenumbers\":\"strict\",\"colorway\":[\"#636efa\",\"#EF553B\",\"#00cc96\",\"#ab63fa\",\"#FFA15A\",\"#19d3f3\",\"#FF6692\",\"#B6E880\",\"#FF97FF\",\"#FECB52\"],\"font\":{\"color\":\"#2a3f5f\"},\"hovermode\":\"closest\",\"hoverlabel\":{\"align\":\"left\"},\"paper_bgcolor\":\"white\",\"plot_bgcolor\":\"#E5ECF6\",\"polar\":{\"bgcolor\":\"#E5ECF6\",\"angularaxis\":{\"gridcolor\":\"white\",\"linecolor\":\"white\",\"ticks\":\"\"},\"radialaxis\":{\"gridcolor\":\"white\",\"linecolor\":\"white\",\"ticks\":\"\"}},\"ternary\":{\"bgcolor\":\"#E5ECF6\",\"aaxis\":{\"gridcolor\":\"white\",\"linecolor\":\"white\",\"ticks\":\"\"},\"baxis\":{\"gridcolor\":\"white\",\"linecolor\":\"white\",\"ticks\":\"\"},\"caxis\":{\"gridcolor\":\"white\",\"linecolor\":\"white\",\"ticks\":\"\"}},\"coloraxis\":{\"colorbar\":{\"outlinewidth\":0,\"ticks\":\"\"}},\"colorscale\":{\"sequential\":[[0.0,\"#0d0887\"],[0.1111111111111111,\"#46039f\"],[0.2222222222222222,\"#7201a8\"],[0.3333333333333333,\"#9c179e\"],[0.4444444444444444,\"#bd3786\"],[0.5555555555555556,\"#d8576b\"],[0.6666666666666666,\"#ed7953\"],[0.7777777777777778,\"#fb9f3a\"],[0.8888888888888888,\"#fdca26\"],[1.0,\"#f0f921\"]],\"sequentialminus\":[[0.0,\"#0d0887\"],[0.1111111111111111,\"#46039f\"],[0.2222222222222222,\"#7201a8\"],[0.3333333333333333,\"#9c179e\"],[0.4444444444444444,\"#bd3786\"],[0.5555555555555556,\"#d8576b\"],[0.6666666666666666,\"#ed7953\"],[0.7777777777777778,\"#fb9f3a\"],[0.8888888888888888,\"#fdca26\"],[1.0,\"#f0f921\"]],\"diverging\":[[0,\"#8e0152\"],[0.1,\"#c51b7d\"],[0.2,\"#de77ae\"],[0.3,\"#f1b6da\"],[0.4,\"#fde0ef\"],[0.5,\"#f7f7f7\"],[0.6,\"#e6f5d0\"],[0.7,\"#b8e186\"],[0.8,\"#7fbc41\"],[0.9,\"#4d9221\"],[1,\"#276419\"]]},\"xaxis\":{\"gridcolor\":\"white\",\"linecolor\":\"white\",\"ticks\":\"\",\"title\":{\"standoff\":15},\"zerolinecolor\":\"white\",\"automargin\":true,\"zerolinewidth\":2},\"yaxis\":{\"gridcolor\":\"white\",\"linecolor\":\"white\",\"ticks\":\"\",\"title\":{\"standoff\":15},\"zerolinecolor\":\"white\",\"automargin\":true,\"zerolinewidth\":2},\"scene\":{\"xaxis\":{\"backgroundcolor\":\"#E5ECF6\",\"gridcolor\":\"white\",\"linecolor\":\"white\",\"showbackground\":true,\"ticks\":\"\",\"zerolinecolor\":\"white\",\"gridwidth\":2},\"yaxis\":{\"backgroundcolor\":\"#E5ECF6\",\"gridcolor\":\"white\",\"linecolor\":\"white\",\"showbackground\":true,\"ticks\":\"\",\"zerolinecolor\":\"white\",\"gridwidth\":2},\"zaxis\":{\"backgroundcolor\":\"#E5ECF6\",\"gridcolor\":\"white\",\"linecolor\":\"white\",\"showbackground\":true,\"ticks\":\"\",\"zerolinecolor\":\"white\",\"gridwidth\":2}},\"shapedefaults\":{\"line\":{\"color\":\"#2a3f5f\"}},\"annotationdefaults\":{\"arrowcolor\":\"#2a3f5f\",\"arrowhead\":0,\"arrowwidth\":1},\"geo\":{\"bgcolor\":\"white\",\"landcolor\":\"#E5ECF6\",\"subunitcolor\":\"white\",\"showland\":true,\"showlakes\":true,\"lakecolor\":\"white\"},\"title\":{\"x\":0.05},\"mapbox\":{\"style\":\"light\"}}},\"xaxis\":{\"anchor\":\"y\",\"domain\":[0.0,1.0],\"title\":{\"text\":\"GDP per Capita\"}},\"yaxis\":{\"anchor\":\"x\",\"domain\":[0.0,1.0],\"title\":{\"text\":\"CO2 Emissions (metric tons per capita)\"}},\"legend\":{\"title\":{\"text\":\"continent\"},\"tracegroupgap\":0,\"itemsizing\":\"constant\"},\"title\":{\"text\":\"CO2 Emissions vs GDP per Capita\"}},                        {\"responsive\": true}                    ).then(function(){\n",
              "                            \n",
              "var gd = document.getElementById('37dffc35-742e-487c-8b95-d9ea13586140');\n",
              "var x = new MutationObserver(function (mutations, observer) {{\n",
              "        var display = window.getComputedStyle(gd).display;\n",
              "        if (!display || display === 'none') {{\n",
              "            console.log([gd, 'removed!']);\n",
              "            Plotly.purge(gd);\n",
              "            observer.disconnect();\n",
              "        }}\n",
              "}});\n",
              "\n",
              "// Listen for the removal of the full notebook cells\n",
              "var notebookContainer = gd.closest('#notebook-container');\n",
              "if (notebookContainer) {{\n",
              "    x.observe(notebookContainer, {childList: true});\n",
              "}}\n",
              "\n",
              "// Listen for the clearing of the current output cell\n",
              "var outputEl = gd.closest('.output');\n",
              "if (outputEl) {{\n",
              "    x.observe(outputEl, {childList: true});\n",
              "}}\n",
              "\n",
              "                        })                };                            </script>        </div>\n",
              "</body>\n",
              "</html>"
            ]
          },
          "metadata": {}
        }
      ]
    },
    {
      "cell_type": "markdown",
      "source": [
        "###What is the relationship between continent and 'Energy use (kg of oil equivalent per capita)'? (Stats test needed)"
      ],
      "metadata": {
        "id": "p7IaxTC7MAg0"
      }
    },
    {
      "cell_type": "code",
      "source": [
        "df = pd.read_csv(\"/content/drive/MyDrive/Colab Notebooks/Python Practice/gapminder_clean.csv\")\n",
        "df_cleaned = df[['continent', 'Energy use (kg of oil equivalent per capita)']].dropna()"
      ],
      "metadata": {
        "id": "wBF5H9i3MhqR"
      },
      "execution_count": 14,
      "outputs": []
    },
    {
      "cell_type": "code",
      "source": [
        "#create dictionary to store values for each continent\n",
        "grouped_data = {}\n",
        "for continent in df_cleaned['continent'].unique():\n",
        "    grouped_data[continent] = df_cleaned[df_cleaned['continent'] == continent]['Energy use (kg of oil equivalent per capita)'].values\n",
        "\n",
        "#one way ANOVA\n",
        "anova_result = stats.f_oneway(*grouped_data.values())\n",
        "print(anova_result.statistic)\n",
        "print(anova_result.pvalue)"
      ],
      "metadata": {
        "colab": {
          "base_uri": "https://localhost:8080/"
        },
        "id": "DKmSrWJCrm5f",
        "outputId": "df34e07c-ae10-4b04-e377-d9849fc07bc5"
      },
      "execution_count": 16,
      "outputs": [
        {
          "output_type": "stream",
          "name": "stdout",
          "text": [
            "51.459157590426344\n",
            "8.527003487154367e-39\n"
          ]
        }
      ]
    },
    {
      "cell_type": "markdown",
      "source": [
        "Results showed a p-value smaller than 0.05. Therefore, we conclude that there is a significant different in energy use between continents."
      ],
      "metadata": {
        "id": "WPQsLV-owffB"
      }
    },
    {
      "cell_type": "markdown",
      "source": [
        "###Is there a significant difference between Europe and Asia with respect to 'Imports of goods and services (% of GDP)' in the years after 1990? (Stats test needed)\n"
      ],
      "metadata": {
        "id": "PKari6_KMEey"
      }
    },
    {
      "cell_type": "code",
      "source": [
        "#filter data (after 1990, Europe and Asia)\n",
        "df_after_1990 = df[df['Year'] > 1990]\n",
        "df_filtered = df_after_1990[df_after_1990['continent'].isin(['Europe', 'Asia'])]\n",
        "df_cleaned = df_filtered[['continent', 'Imports of goods and services (% of GDP)']].dropna()\n",
        "\n",
        "#split into two dataset\n",
        "df_europe = df_cleaned[df_cleaned['continent'] == 'Europe']['Imports of goods and services (% of GDP)']\n",
        "df_asia = df_cleaned[df_cleaned['continent'] == 'Asia']['Imports of goods and services (% of GDP)']"
      ],
      "metadata": {
        "id": "xbM47iGQMiPB"
      },
      "execution_count": 18,
      "outputs": []
    },
    {
      "cell_type": "code",
      "source": [
        "#perform  two sample independent t-test\n",
        "t_test_result = stats.ttest_ind(df_europe, df_asia)\n",
        "print(t_test_result.statistic)\n",
        "print(t_test_result.pvalue)"
      ],
      "metadata": {
        "colab": {
          "base_uri": "https://localhost:8080/"
        },
        "id": "CU3WZnBRw4cZ",
        "outputId": "26818ba6-1eab-4c0b-9406-d55eed8fa077"
      },
      "execution_count": 19,
      "outputs": [
        {
          "output_type": "stream",
          "name": "stdout",
          "text": [
            "-1.4185256887958868\n",
            "0.15751969325554196\n"
          ]
        }
      ]
    },
    {
      "cell_type": "markdown",
      "source": [
        "Results showed a p-value bigger than 0.05, therefore, we conclude that there is no significant difference between Europe and Asia with respect to 'Imports of goods and services (% of GDP)' in the years after 1990."
      ],
      "metadata": {
        "id": "o2y4xy_hynSo"
      }
    },
    {
      "cell_type": "markdown",
      "source": [
        "###What is the country (or countries) that has the highest 'Population density (people per sq. km of land area)' across all years? (i.e., which country has the highest average ranking in this category across each time point in the dataset?)"
      ],
      "metadata": {
        "id": "vfXqUH7dMHXt"
      }
    },
    {
      "cell_type": "code",
      "source": [
        "#filter data\n",
        "df_density = df[['Country Name', 'Year', 'Population density (people per sq. km of land area)']].dropna()\n",
        "\n",
        "df_density['rank'] = df_density.groupby('Year')['Population density (people per sq. km of land area)'].rank(ascending=False, method='average') #higher density better rank\n",
        "\n",
        "avg_ranks = df_density.groupby('Country Name')['rank'].mean()\n",
        "\n",
        "best_countries = avg_ranks[avg_ranks == avg_ranks.min()]\n",
        "\n",
        "print(\"Country/Countries with the highest average population density rank:\")\n",
        "print(best_countries)"
      ],
      "metadata": {
        "colab": {
          "base_uri": "https://localhost:8080/"
        },
        "id": "8Pl3tLgUMih9",
        "outputId": "363b8a51-be4c-49d3-b14b-3444b6db6e05"
      },
      "execution_count": 20,
      "outputs": [
        {
          "output_type": "stream",
          "name": "stdout",
          "text": [
            "Country/Countries with the highest average population density rank:\n",
            "Country Name\n",
            "Macao SAR, China    1.5\n",
            "Monaco              1.5\n",
            "Name: rank, dtype: float64\n"
          ]
        }
      ]
    },
    {
      "cell_type": "code",
      "source": [
        "top_10_dense = avg_ranks.sort_values().head(10)\n",
        "print(top_10_dense)"
      ],
      "metadata": {
        "colab": {
          "base_uri": "https://localhost:8080/"
        },
        "id": "PUHRxnH77ftC",
        "outputId": "2be0effe-fd9c-4dd4-bb29-127c389b0342"
      },
      "execution_count": 32,
      "outputs": [
        {
          "output_type": "stream",
          "name": "stdout",
          "text": [
            "Country Name\n",
            "Macao SAR, China              1.5\n",
            "Monaco                        1.5\n",
            "Hong Kong SAR, China          3.1\n",
            "Singapore                     3.9\n",
            "Gibraltar                     5.0\n",
            "Bermuda                       6.2\n",
            "Malta                         7.0\n",
            "Bangladesh                    9.2\n",
            "Channel Islands               9.4\n",
            "Sint Maarten (Dutch part)    10.5\n",
            "Name: rank, dtype: float64\n"
          ]
        }
      ]
    },
    {
      "cell_type": "markdown",
      "source": [
        "###What country (or countries) has shown the greatest increase in 'Life expectancy at birth, total (years)' between 1962 and 2007?"
      ],
      "metadata": {
        "id": "1JyFvkU9MKlb"
      }
    },
    {
      "cell_type": "code",
      "source": [
        "#filter data (1962/2007)\n",
        "df_life_expectancy = df[df['Year'].isin([1962, 2007])][['Country Name', 'Year', 'Life expectancy at birth, total (years)']].dropna()\n",
        "\n",
        "#create data table\n",
        "df_life_table = df_life_expectancy.pivot(index='Country Name', columns='Year', values='Life expectancy at birth, total (years)')\n",
        "\n",
        "#calculate the amount of increase\n",
        "df_life_table['increase'] = df_life_table[2007] - df_life_table[1962]\n",
        "\n",
        "#find the country with the greatest increase\n",
        "greatest_increase = df_life_table['increase'].idxmax()\n",
        "print(f'Country with the greatest increase in life expectancy is {greatest_increase}')"
      ],
      "metadata": {
        "colab": {
          "base_uri": "https://localhost:8080/"
        },
        "id": "XjtcmgshMjGS",
        "outputId": "a359224c-49cf-479e-f658-a5744a39c9c0"
      },
      "execution_count": 38,
      "outputs": [
        {
          "output_type": "stream",
          "name": "stdout",
          "text": [
            "Country with the greatest increase in life expectancy is Maldives\n"
          ]
        }
      ]
    }
  ]
}
